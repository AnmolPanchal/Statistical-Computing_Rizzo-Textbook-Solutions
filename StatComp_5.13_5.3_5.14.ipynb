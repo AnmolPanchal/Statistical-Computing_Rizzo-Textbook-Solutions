{
 "cells": [
  {
   "cell_type": "code",
   "execution_count": 20,
   "metadata": {},
   "outputs": [],
   "source": [
    "import numpy as np\n",
    "import scipy.stats\n",
    "from scipy.stats import uniform\n",
    "from scipy.stats import norm\n",
    "from scipy.stats import beta\n",
    "import math\n",
    "import pandas as pd"
   ]
  },
  {
   "cell_type": "markdown",
   "metadata": {},
   "source": [
    "# 5.3"
   ]
  },
  {
   "cell_type": "code",
   "execution_count": 21,
   "metadata": {},
   "outputs": [],
   "source": [
    "N = 1000\n",
    "e =  2.718281\n",
    "def estimate():\n",
    "    def g(y):\n",
    "        return e**(-y/2)*1/2\n",
    "    xs = g(np.random.uniform(size = N))\n",
    "    theta_hat = np.mean(xs)\n",
    "    var = np.var(xs)/N\n",
    "#     df = pd.DataFrame(theta_hat, var)\n",
    "    print(\"Theta_hat:\",theta_hat,\" Variance: \",var)"
   ]
  },
  {
   "cell_type": "code",
   "execution_count": 22,
   "metadata": {},
   "outputs": [],
   "source": [
    "def estimate_unif_max():\n",
    "    def g(y):\n",
    "        return e**(-y)\n",
    "    xs = g(np.random.uniform(0, 0.5, N))\n",
    "    var = np.var(xs)/N\n",
    "    theta_hat = np.mean(xs)*1/2\n",
    "#     df = pd.DataFrame(theta_hat, var)\n",
    "    print(\"Theta_hat:\",theta_hat,\" Variance: \",var)"
   ]
  },
  {
   "cell_type": "code",
   "execution_count": 23,
   "metadata": {},
   "outputs": [],
   "source": [
    "def estimate_exp():\n",
    "    def g(y):\n",
    "        return 1/y\n",
    "    y = np.random.exponential(scale = 1, size = N) \n",
    "    var = np.var(y)/N\n",
    "    theta_hat = np.mean(y)\n",
    "#     df = pd.DataFrame(theta_hat, var)\n",
    "    print(\"Theta_hat:\",theta_hat,\" Variance: \",var)"
   ]
  },
  {
   "cell_type": "code",
   "execution_count": 24,
   "metadata": {},
   "outputs": [
    {
     "name": "stdout",
     "output_type": "stream",
     "text": [
      "Theta_hat: 0.3936027048213997  Variance:  3.2357350960027487e-06\n",
      "Theta_hat: 0.3924372069462392  Variance:  1.2667871385804456e-05\n",
      "Theta_hat: 1.0094068334589583  Variance:  0.000977081582912376\n"
     ]
    }
   ],
   "source": [
    "estimate()\n",
    "estimate_unif_max()\n",
    "estimate_exp()"
   ]
  },
  {
   "cell_type": "markdown",
   "metadata": {},
   "source": [
    "# 5.13"
   ]
  },
  {
   "cell_type": "code",
   "execution_count": 25,
   "metadata": {},
   "outputs": [],
   "source": [
    "from scipy.stats import rayleigh\n",
    "def g(x):\n",
    "    return (x**2)/(np.sqrt(2*math.pi)*np.exp(-x**2/2))\n",
    "\n",
    "xs = np.arange(0,10.1,0.1)\n",
    "ys_g = g(xs)\n",
    "ys_rayleigh = rayleigh.pdf(xs, 1.5)\n",
    "ys_norm = norm.pdf(xs, 1.5)\n",
    "lim =  max(np.r_[ys_g, ys_rayleigh, ys_norm])"
   ]
  },
  {
   "cell_type": "code",
   "execution_count": 26,
   "metadata": {},
   "outputs": [
    {
     "data": {
      "image/png": "[encoded data removed]",
      "text/plain": [
       "<Figure size 432x288 with 1 Axes>"
      ]
     },
     "metadata": {},
     "output_type": "display_data"
    }
   ],
   "source": [
    "import matplotlib.pyplot as plt\n",
    "plt.plot(xs, ys_g)\n",
    "plt.plot(xs, ys_rayleigh)\n",
    "plt.plot(xs, ys_norm)\n",
    "plt.ylim(ymin = 0, ymax=1)\n",
    "plt.xlim(xmin = 0, xmax = 10)\n",
    "plt.show()"
   ]
  },
  {
   "cell_type": "markdown",
   "metadata": {},
   "source": [
    "# 5.14"
   ]
  },
  {
   "cell_type": "code",
   "execution_count": 27,
   "metadata": {},
   "outputs": [],
   "source": [
    "def g(x):\n",
    "    res = x**2/np.sqrt(2*math.pi)*np.exp(-x**2/2)\n",
    "    return res\n",
    "\n",
    "sigma_rayleigh = 1.5\n",
    "mean = 1.5\n",
    "n = 10000\n",
    "\n",
    "def f1(x):\n",
    "    return rayleigh.pdf(x, sigma_rayleigh)\n",
    "\n",
    "def f2(x):\n",
    "    return norm.pdf(x, mean)\n",
    "\n",
    "def rf1():\n",
    "    return rayleigh.rvs(sigma_rayleigh, size = n)\n",
    "\n",
    "def rf2():\n",
    "    return norm.rvs(mean, size = n)\n",
    "\n",
    "def is_rayleigh():\n",
    "    xs = rf1()\n",
    "    a = g(xs)/f1(xs)\n",
    "    return np.mean(a)\n",
    "\n",
    "def is_norm():\n",
    "    xs = rf2()\n",
    "    a = g(xs)/f2(xs)\n",
    "    return np.mean(a)"
   ]
  },
  {
   "cell_type": "code",
   "execution_count": 28,
   "metadata": {},
   "outputs": [
    {
     "name": "stdout",
     "output_type": "stream",
     "text": [
      "Theta1: 0.26690224591299955  Theta2: 0.9896312104041103\n"
     ]
    }
   ],
   "source": [
    "theta1 = is_rayleigh()\n",
    "theta2 = is_norm()\n",
    "print(\"Theta1:\", theta1, \" Theta2:\", theta2)"
   ]
  },
  {
   "cell_type": "code",
   "execution_count": null,
   "metadata": {},
   "outputs": [],
   "source": []
  },
  {
   "cell_type": "code",
   "execution_count": null,
   "metadata": {},
   "outputs": [],
   "source": []
  }
 ],
 "metadata": {
  "kernelspec": {
   "display_name": "Python 3",
   "language": "python",
   "name": "python3"
  },
  "language_info": {
   "codemirror_mode": {
    "name": "ipython",
    "version": 3
   },
   "file_extension": ".py",
   "mimetype": "text/x-python",
   "name": "python",
   "nbconvert_exporter": "python",
   "pygments_lexer": "ipython3",
   "version": "3.6.5"
  }
 },
 "nbformat": 4,
 "nbformat_minor": 2
}
