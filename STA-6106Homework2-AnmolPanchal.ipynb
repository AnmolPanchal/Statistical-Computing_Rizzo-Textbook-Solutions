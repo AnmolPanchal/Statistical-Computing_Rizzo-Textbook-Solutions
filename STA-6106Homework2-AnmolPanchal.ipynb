{
 "cells": [
  {
   "cell_type": "code",
   "execution_count": 1,
   "metadata": {},
   "outputs": [],
   "source": [
    "import math \n",
    "import pandas \n",
    "import numpy as np \n",
    "import scipy.stats \n",
    "from scipy.stats import uniform\n",
    "from scipy.stats import binom\n",
    "import math\n",
    "from scipy.stats import norm\n",
    "import matplotlib    \n",
    "import matplotlib.pyplot as plt"
   ]
  },
  {
   "cell_type": "markdown",
   "metadata": {},
   "source": [
    "# Problem 2"
   ]
  },
  {
   "cell_type": "code",
   "execution_count": 2,
   "metadata": {},
   "outputs": [],
   "source": [
    "#Q.2 from HW2\n",
    "def box_muller():\n",
    "    u1 = random.random()\n",
    "    u2 = random.random()\n",
    "\n",
    "    t = math.sqrt((-2) * math.log(u1))\n",
    "    v = 2 * math.pi * u2\n",
    "\n",
    "    return t * math.cos(v), t * math.sin(v)"
   ]
  },
  {
   "cell_type": "code",
   "execution_count": 3,
   "metadata": {},
   "outputs": [
    {
     "data": {
      "image/png": "[encoded data removed]",
      "text/plain": [
       "<Figure size 432x288 with 4 Axes>"
      ]
     },
     "metadata": {},
     "output_type": "display_data"
    }
   ],
   "source": [
    "from numpy import random, sqrt, log, sin, cos, pi\n",
    "from pylab import show,hist,subplot,figure\n",
    "\n",
    "# transformation function\n",
    "def gaussian(u1,u2):\n",
    "  z1 = sqrt(-2*log(u1))*cos(2*pi*u2)\n",
    "  z2 = sqrt(-2*log(u1))*sin(2*pi*u2)\n",
    "  return z1,z2\n",
    "\n",
    "# uniformly distributed values between 0 and 1\n",
    "u1 = random.rand(1000)\n",
    "u2 = random.rand(1000)\n",
    "\n",
    "# run the transformation\n",
    "z1,z2 = gaussian(u1,u2)\n",
    "\n",
    "# plotting the values before and after the transformation\n",
    "figure()\n",
    "subplot(221) # the first row of graphs\n",
    "hist(u1)     # contains the histograms of u1 and u2 \n",
    "subplot(222)\n",
    "hist(u2)\n",
    "subplot(223) # the second contains\n",
    "hist(z1)     # the histograms of z1 and z2\n",
    "subplot(224)\n",
    "hist(z2)\n",
    "show()\n",
    "#In the first row of the graph we can see, respectively, the histograms of u1 and u2 before the transformation \n",
    "#and in the second row we can see the values after the transformation, respectively z1 and z2. \n",
    "#We can observe that the values before the transformation are distributed uniformly while the histograms of the values \n",
    "#after the transformation have the typical Gaussian shape.\n",
    "#The Box-Muller transform is a method for generating normally distributed random numbers from uniformly distributed \n",
    "#random numbers. The Box-Muller transformation can be summarized as follows, suppose u1 and u2 are independent random variables\n",
    "#that are uniformly distributed between 0 and 1 and let \n",
    "#then z1 and z2 are independent random variables with a standard normal distribution. Intuitively, the transformation maps \n",
    "#each circle of points around the origin to another circle of points around the origin where larger outer circles are mapped \n",
    "#to closely-spaced inner circles and inner circles to outer circles. \n"
   ]
  },
  {
   "cell_type": "code",
   "execution_count": 4,
   "metadata": {},
   "outputs": [
    {
     "name": "stdout",
     "output_type": "stream",
     "text": [
      "  0:   1 | \n",
      "  1:   6 | \n",
      "  2:  35 | \n",
      "  3: 124 | *\n",
      "  4: 304 | ***\n",
      "  5: 675 | ******\n",
      "  6:1235 | ************\n",
      "  7:1860 | ******************\n",
      "  8:2657 | **************************\n",
      "  9:3162 | *******************************\n",
      " 10:3122 | *******************************\n",
      " 11:2646 | **************************\n",
      " 12:1914 | *******************\n",
      " 13:1169 | ***********\n",
      " 14: 642 | ******\n",
      " 15: 288 | **\n",
      " 16: 107 | *\n",
      " 17:  39 | \n",
      " 18:  10 | \n",
      " 19:   3 | \n",
      " 20:   1 | \n"
     ]
    }
   ],
   "source": [
    "##Random number generatrion with Box-Muller algorithm\n",
    "\n",
    "import math\n",
    "import random\n",
    "import sys\n",
    "import traceback\n",
    "\n",
    "\n",
    "class RndnumBoxMuller:\n",
    "    M     = 10        # Average\n",
    "    S     = 2.5       # Standard deviation\n",
    "    N     = 10000     # Number to generate\n",
    "    SCALE = N // 100  # Scale for histogram\n",
    "\n",
    "    def __init__(self):\n",
    "        self.hist = [0 for _ in range(self.M * 5)]\n",
    "\n",
    "    def generate_rndnum(self):\n",
    "        ##Generation of random nos.\n",
    "        try:\n",
    "            for _ in range(self.N):\n",
    "                res = self.__rnd()\n",
    "                self.hist[res[0]] += 1\n",
    "                self.hist[res[1]] += 1\n",
    "        except Exception as e:\n",
    "            raise\n",
    "\n",
    "    def display(self):\n",
    "       ##showing\n",
    "        try:\n",
    "            for i in range(0, self.M * 2 + 1):\n",
    "                print(\"{:>3}:{:>4} | \".format(i, self.hist[i]), end=\"\")\n",
    "                for j in range(1, self.hist[i] // self.SCALE + 1):\n",
    "                    print(\"*\", end=\"\")\n",
    "                print()\n",
    "        except Exception as e:\n",
    "            raise\n",
    "\n",
    "    def __rnd(self):\n",
    "   ##random integers generation.\n",
    "        try:\n",
    "            r_1 = random.random()\n",
    "            r_2 = random.random()\n",
    "            x = self.S \\\n",
    "              * math.sqrt(-2 * math.log(r_1)) \\\n",
    "              * math.cos(2 * math.pi * r_2) \\\n",
    "              + self.M\n",
    "            y = self.S \\\n",
    "              * math.sqrt(-2 * math.log(r_1)) \\\n",
    "              * math.sin(2 * math.pi * r_2) \\\n",
    "              + self.M\n",
    "            return [math.floor(x), math.floor(y)]\n",
    "        except Exception as e:\n",
    "            raise\n",
    "\n",
    "\n",
    "if __name__ == '__main__':\n",
    "    try:\n",
    "        obj = RndnumBoxMuller()\n",
    "        obj.generate_rndnum()\n",
    "        obj.display()\n",
    "    except Exception as e:\n",
    "        traceback.print_exc()\n",
    "        sys.exit(1)"
   ]
  },
  {
   "cell_type": "code",
   "execution_count": 5,
   "metadata": {},
   "outputs": [
    {
     "data": {
      "image/png": "[encoded data removed]",
      "text/plain": [
       "<Figure size 432x288 with 2 Axes>"
      ]
     },
     "metadata": {},
     "output_type": "display_data"
    }
   ],
   "source": [
    "#Box-Muller method\n",
    "#to generate gaussian values from the numbers distributed uniformly.\n",
    "\n",
    "import numpy as np\n",
    "import matplotlib.pyplot as plt\n",
    "\n",
    "#generate from uniform dist\n",
    "np.random.seed()\n",
    "N = 1000\n",
    "z1 = np.random.uniform(0, 1.0 ,N)\n",
    "z2 = np.random.uniform(0, 1.0 ,N)\n",
    "z1 = 2*z1 - 1\n",
    "z2 = 2*z2 - 1\n",
    "\n",
    "#discard if z1**2 + z2**2 <= 1\n",
    "c = z1**2 + z2**2\n",
    "index = np.where(c<=1)\n",
    "z1 = z1[index]\n",
    "z2 = z2[index]\n",
    "r = c[index]\n",
    "\n",
    "#transformation\n",
    "y1 = z1*((-2*np.log(r**2))/r**2)**(0.5)\n",
    "y2 = z2*((-2*np.log(r**2))/r**2)**(0.5)\n",
    "\n",
    "#discard outlier\n",
    "y1 = y1[y1 <= 5]\n",
    "y1 = y1[y1 >= -5]\n",
    "y2 = y2[y2 <= 5]\n",
    "y2 = y2[y2 >= -5]\n",
    "\n",
    "#plot\n",
    "fig = plt.figure()\n",
    "ax = fig.add_subplot(2,1,1)\n",
    "ax.hist(y1,bins=30,color='red')\n",
    "plt.title(\"Histgram\")\n",
    "plt.xlabel(\"y1\")\n",
    "plt.ylabel(\"frequency\")\n",
    "ax2 = fig.add_subplot(2,1,2)\n",
    "ax2.hist(y2,bins=30,color='blue')\n",
    "plt.xlabel(\"y2\")\n",
    "plt.ylabel(\"frequency\")\n",
    "plt.show()"
   ]
  },
  {
   "cell_type": "markdown",
   "metadata": {},
   "source": [
    " #Problem 1"
   ]
  },
  {
   "cell_type": "code",
   "execution_count": 8,
   "metadata": {},
   "outputs": [
    {
     "name": "stdout",
     "output_type": "stream",
     "text": [
      "[0 0 0 0 0 0 0 0 0 0 0 0 0 0 0 0 0 0 0 0 0 0 0 0 0 0 0 0 0 0 0 0 0 0 0 0 0\n",
      " 0 0 0 0 0 0 0 0 0 0 0 0 0 0 0 0 0 0 0 0 0 0 0 0 0 0 0 0 0 0 0 0 0 0 0 0 0\n",
      " 0 0 0 0 0 0 0 0 0 0 0 0 0 0 0 0 0 0 0 0 0 0 0 0 0 0 0 0 0 0 0 0 0 0 0 0 0\n",
      " 0 0 0 0 0 0 0 0 0 0 0 0 0 0 0 0 0 0 0 0 0 0 0 0 0 0 0 0 0 0 0 0 0 0 0 0 0\n",
      " 0 0 0 0 0 0 0 0 0 0 0 0 0 0 0 0 0 0 0 0 0 0 0 0 0 0 0 0 0 0 0 0 0 0 0 0 0\n",
      " 0 0 0 0 0 0 0 0 0 0 0 0 0 0 0 0 0 0 0 0 0 0 0 0 0 0 0 0 0 0 0 0 0 0 0 0 0\n",
      " 0 0 0 0 0 0 0 0 0 0 0 0 0 0 0 0 0 0 0 0 0 0 0 0 0 0 0 0 0 0 0 0 0 0 0 0 0\n",
      " 0 0 0 0 0 0 0 0 0 0 0 0 0 0 0 0 0 0 0 0 0 0 0 0 0 0 0 0 0 0 0 0 0 0 0 0 0\n",
      " 0 0 0 0 0 0 0 0 0 0 0 0 0 0 0 0 0 0 0 0 0 0 0 0 0 0 0 0 0 0 0 0 0 0 0 0 0\n",
      " 0 0 0 0 0 0 0 0 0 0 0 0 0 0 0 0 0 0 0 0 0 0 0 0 0 0 0 0 0 0 0 0 0 0 0 0 0\n",
      " 0 0 0 0 0 0 0 0 0 0 0 0 0 0 0 0 0 0 0 0 0 0 0 0 0 0 0 0 0 0 0 0 0 0 0 0 0\n",
      " 0 0 0 0 0 0 0 0 0 0 0 0 0 0 0 0 0 0 0 0 0 0 0 0 0 0 0 0 0 0 0 0 0 0 0 0 0\n",
      " 0 0 0 0 0 0 0 0 0 0 0 0 0 0 0 0 0 0 0 0 0 0 0 0 0 0 0 0 0 0 0 0 0 0 0 0 0\n",
      " 0 0 0 0 0 0 0 0 0 0 0 0 0 0 0 0 0 0 0 0 0 0 0 0 0 0 0 0 0 0 0 0 0 0 0 0 0\n",
      " 0 0 0 0 0 0 0 0 0 0 0 0 0 0 0 0 0 0 0 0 0 0 0 0 0 0 0 0 0 0 0 0 0 0 0 0 0\n",
      " 0 0 0 0 0 0 0 0 0 0 0 0 0 0 0 0 0 0 0 0 0 0 0 0 0 0 0 0 0 0 0 0 0 0 0 0 0\n",
      " 0 0 0 0 0 0 0 0 0 0 0 0 0 0 0 0 0 0 0 0 0 0 0 0 0 0 0 0 0 0 0 0 0 0 0 0 0\n",
      " 0 0 0 0 0 0 0 0 0 0 0 0 0 0 0 0 0 0 0 0 0 0 0 0 0 0 0 0 0 0 0 0 0 0 0 0 0\n",
      " 0 0 0 0 0 0 0 0 0 0 0 0 0 0 0 0 0 0 0 0 0 0 0 0 0 0 0 0 0 0 0 0 0 0 0 0 0\n",
      " 0 0 0 0 0 0 0 0 0 0 0 0 0 0 0 0 0 0 0 0 0 0 0 0 0 0 0 0 0 0 0 0 0 0 0 0 0\n",
      " 0 0 0 0 0 0 0 0 0 0 0 0 0 0 0 0 0 0 0 0 0 0 0 0 0 0 0 0 0 0 0 0 0 0 0 0 0\n",
      " 0 0 0 0 0 0 0 0 0 0 0 0 0 0 0 0 0 0 0 0 0 0 0 0 0 0 0 0 0 0 0 0 0 0 0 0 0\n",
      " 0 0 0 0 0 0 0 0 0 0 0 0 0 0 0 0 0 0 0 0 0 0 0 0 0 0 0 0 0 0 0 0 0 0 0 0 0\n",
      " 0 0 0 0 0 0 0 0 0 0 0 0 0 0 0 0 0 0 0 0 0 0 0 0 0 0 0 0 0 0 0 0 0 0 0 0 0\n",
      " 0 0 0 0 0 0 0 0 0 0 0 0 0 0 0 0 0 0 0 0 0 0 0 0 0 0 0 0 0 0 0 0 0 0 0 0 0\n",
      " 0 0 0 0 0 0 0 0 0 0 0 0 0 0 0 0 0 0 0 0 0 0 0 0 0 0 0 0 0 0 0 0 0 0 0 0 0\n",
      " 0 0 0 0 0 0 0 0 0 0 0 0 0 0 0 0 0 0 0 0 0 0 0 0 0 0 0 0 0 0 0 0 0 0 0 0 0\n",
      " 0]\n",
      "[1 0 0 1 1 0 0 0 0 0 0 0 0 0 1 0 0 0 1 0 0 0 0 0 0 0 0 0 0 0 0 0 0 0 0 0 1\n",
      " 0 0 0 0 1 0 0 0 0 0 0 0 0 0 0 0 0 0 0 1 0 1 1 0 0 0 1 1 0 0 0 0 0 0 0 0 0\n",
      " 0 1 1 0 0 0 0 0 0 1 0 1 0 0 0 0 0 0 0 1 0 0 0 0 0 0 0 0 0 0 0 0 1 0 0 0 0\n",
      " 1 0 0 0 0 0 0 1 0 0 1 0 0 0 0 0 0 0 0 0 0 0 0 0 0 0 1 0 0 0 0 0 0 1 0 0 0\n",
      " 0 1 0 0 0 0 0 1 1 0 1 0 0 0 0 0 0 1 0 0 0 0 0 0 0 0 1 1 1 0 0 0 0 1 0 0 0\n",
      " 0 0 0 0 0 0 0 0 1 0 0 0 0 0 1 0 1 0 0 0 1 0 0 0 0 0 0 0 0 0 0 0 0 0 0 0 0\n",
      " 0 0 0 0 0 0 0 1 0 0 0 0 0 1 0 0 0 1 0 0 0 0 0 0 0 0 0 0 0 0 0 0 1 0 0 0 0\n",
      " 0 1 0 0 0 1 1 0 1 0 0 0 0 0 0 0 0 0 0 1 1 0 0 1 0 0 1 1 0 0 0 1 0 1 0 0 1\n",
      " 0 0 0 0 0 0 0 0 0 0 0 0 0 0 0 0 0 0 0 0 0 0 0 0 0 0 1 0 0 1 0 1 0 0 0 0 0\n",
      " 0 0 0 1 1 0 0 0 0 0 1 0 0 0 0 1 0 0 0 1 0 0 0 0 0 0 0 1 0 0 0 0 0 0 0 0 0\n",
      " 0 0 0 0 0 0 0 0 0 0 0 1 1 0 1 0 1 0 0 0 0 1 0 0 1 1 0 0 0 0 0 0 0 0 0 1 0\n",
      " 0 0 0 0 0 0 0 0 1 0 0 0 1 0 0 0 0 0 0 0 0 0 0 0 0 1 0 0 0 0 0 1 0 0 0 0 0\n",
      " 0 0 0 1 0 0 0 0 0 1 1 0 0 0 1 0 0 1 1 0 0 0 0 0 1 1 0 0 0 0 0 0 0 0 0 0 1\n",
      " 0 0 1 0 0 0 0 1 0 1 0 0 0 1 0 0 0 0 0 1 1 1 0 0 0 1 0 0 0 0 0 1 0 0 0 0 0\n",
      " 0 0 0 0 0 0 1 0 0 0 0 0 0 0 0 1 0 0 1 0 0 0 1 0 0 0 0 1 0 0 0 0 1 0 0 0 0\n",
      " 0 1 0 0 0 0 0 0 0 0 0 1 0 1 0 0 0 0 0 0 0 0 0 1 0 0 1 1 0 0 0 0 1 1 0 0 1\n",
      " 1 0 0 0 0 0 0 0 0 0 0 1 0 0 1 0 0 0 1 0 0 1 0 0 0 0 0 0 0 0 0 1 0 0 0 1 0\n",
      " 0 0 0 0 1 0 0 0 0 1 0 0 0 0 0 0 0 0 1 0 0 1 0 0 0 1 0 1 0 0 0 0 1 0 0 1 1\n",
      " 0 0 0 1 0 0 0 0 0 0 0 1 0 0 0 0 0 0 0 1 0 1 0 0 0 0 1 0 0 0 0 0 0 1 0 0 0\n",
      " 1 1 0 0 0 0 1 0 0 1 0 0 0 0 0 0 0 1 0 1 0 0 0 0 0 0 0 0 0 0 0 0 0 0 0 0 0\n",
      " 0 0 0 0 0 1 0 0 1 1 0 0 1 0 0 0 0 1 0 0 1 0 0 1 0 0 1 0 1 0 1 0 0 0 0 1 1\n",
      " 0 0 0 0 0 0 0 1 0 0 0 1 0 0 0 0 0 0 0 0 0 1 0 0 0 0 0 1 1 0 0 0 1 0 0 0 1\n",
      " 1 1 1 1 0 0 0 0 0 1 0 0 0 0 0 0 0 0 0 0 0 0 0 0 0 1 0 0 0 0 1 0 0 1 1 0 0\n",
      " 0 0 0 0 0 0 0 1 0 1 0 0 0 0 0 0 0 0 0 1 1 0 0 0 0 0 0 1 0 1 0 0 1 0 0 0 0\n",
      " 0 0 0 0 0 1 0 1 0 1 0 0 0 0 0 1 1 0 0 0 0 0 0 1 0 0 0 0 0 0 0 0 1 0 0 0 0\n",
      " 0 1 0 1 1 0 0 0 0 0 1 0 0 0 0 0 0 0 0 0 0 0 0 0 0 0 1 0 0 0 0 0 0 0 0 1 0\n",
      " 0 0 0 0 0 0 0 0 0 0 1 1 0 0 0 1 0 0 0 0 0 0 0 1 0 1 0 0 0 0 0 0 0 0 0 0 0\n",
      " 0]\n",
      "[2 0 0 1 3 1 2 1 3 2 1 1 2 3 2 2 2 0 0 3 2 2 1 2 1 1 2 2 1 1 3 2 2 2 3 1 3\n",
      " 2 3 3 2 0 2 2 2 2 3 1 1 0 1 1 1 2 1 1 1 1 1 2 1 1 2 2 2 3 1 1 2 1 3 3 3 0\n",
      " 2 3 1 1 3 2 2 2 2 2 0 1 2 1 2 1 1 2 2 2 2 0 1 2 0 3 2 2 1 0 2 2 1 3 1 1 1\n",
      " 1 3 3 2 0 0 2 1 2 1 2 3 0 2 1 1 0 3 3 2 2 3 1 0 2 0 1 1 1 2 1 2 2 1 2 1 0\n",
      " 1 2 3 2 1 1 2 1 1 2 2 0 2 3 3 1 1 1 2 1 3 2 3 3 2 1 1 1 1 1 2 1 1 2 1 0 2\n",
      " 3 2 2 1 2 1 1 2 2 2 2 3 1 1 2 1 1 0 2 2 3 1 2 3 1 1 3 1 2 2 2 2 2 1 2 1 2\n",
      " 2 1 2 3 2 2 3 1 1 1 3 1 2 1 0 2 2 0 1 1 2 2 1 1 1 2 2 1 2 2 2 2 1 2 1 2 1\n",
      " 2 1 3 1 1 3 2 2 0 2 2 1 1 2 1 2 2 0 1 1 1 2 0 0 3 2 3 2 1 1 1 2 2 3 1 2 2\n",
      " 0 2 2 1 1 2 1 1 2 2 1 3 2 2 0 1 0 2 0 2 1 2 1 3 1 2 1 1 1 2 3 2 1 3 1 2 0\n",
      " 2 2 2 1 2 1 1 0 1 1 1 3 1 1 1 1 2 0 1 2 0 1 0 0 0 1 2 2 2 0 2 2 2 2 1 3 3\n",
      " 0 2 1 3 2 2 1 1 2 1 1 2 0 1 1 0 1 0 3 2 3 0 2 1 2 0 1 2 1 2 2 3 2 2 2 2 2\n",
      " 1 2 1 1 2 1 0 0 2 2 2 0 2 2 0 1 1 3 0 1 2 1 2 3 1 1 1 0 1 2 2 2 2 1 3 1 1\n",
      " 1 1 1 2 2 1 3 2 1 2 3 2 0 0 1 1 3 2 2 2 2 2 1 1 1 0 1 0 0 2 2 1 1 1 3 2 1\n",
      " 3 2 1 2 0 1 1 1 3 2 1 0 1 0 1 3 1 1 1 2 3 2 1 2 2 1 2 3 2 3 2 2 2 1 2 1 1\n",
      " 3 1 2 1 2 0 2 2 2 1 1 0 3 2 2 1 1 1 1 1 3 2 1 2 2 2 1 1 0 1 1 2 1 1 2 2 1\n",
      " 2 2 1 1 3 1 3 2 2 1 0 2 3 2 2 1 2 3 0 2 1 1 1 2 2 3 1 2 3 3 1 1 2 2 1 2 2\n",
      " 2 2 1 0 0 2 1 1 3 2 1 1 1 2 1 0 1 3 1 3 3 0 2 2 3 2 1 1 3 3 2 1 2 3 2 2 3\n",
      " 1 2 1 0 1 2 2 2 1 1 2 2 2 3 1 1 1 1 1 3 3 1 1 2 2 1 1 1 0 2 1 1 0 1 2 2 1\n",
      " 2 1 1 0 2 2 2 2 3 2 3 1 1 2 1 2 2 2 1 0 0 1 1 2 1 0 3 2 2 2 1 1 1 2 1 2 0\n",
      " 1 1 3 2 3 0 1 3 1 2 1 1 1 1 2 3 3 1 0 1 0 2 0 2 2 0 0 2 0 1 3 1 1 1 1 0 2\n",
      " 1 1 2 2 2 2 1 0 1 1 0 0 1 1 2 2 1 1 2 1 3 1 2 1 2 2 2 1 1 1 2 2 2 1 1 1 2\n",
      " 3 1 2 2 3 0 2 3 3 0 2 3 0 2 1 1 2 3 0 1 3 1 1 0 2 2 2 2 1 1 1 2 1 1 2 1 2\n",
      " 2 0 2 2 0 2 3 2 2 1 1 1 1 1 2 1 0 2 2 1 1 2 1 1 2 0 2 2 0 2 1 0 3 2 1 1 2\n",
      " 1 1 2 2 3 1 1 3 2 2 0 3 2 2 2 2 1 2 2 1 0 2 2 2 3 1 2 1 2 0 0 2 3 3 3 2 2\n",
      " 2 3 1 2 2 1 2 1 1 1 1 1 1 3 2 2 1 2 2 2 3 2 1 2 2 2 1 2 0 2 1 2 1 1 1 2 1\n",
      " 1 2 1 1 1 2 1 2 3 2 1 2 1 1 1 1 1 2 0 2 0 1 3 3 1 3 2 1 2 0 2 1 1 2 2 2 1\n",
      " 1 2 1 1 3 3 0 1 1 2 1 2 1 2 1 0 1 2 0 3 2 3 1 2 1 2 2 1 1 3 1 2 3 2 1 1 2\n",
      " 3]\n"
     ]
    }
   ],
   "source": [
    "######################################Problem 1################################\n",
    "x = binom.rvs(0, 0.3, size=1000)\n",
    "y = binom.rvs(1, 0.2, size=1000)\n",
    "z = binom.rvs(3, 0.5, size=1000)\n",
    "print(x)\n",
    "print(y)\n",
    "print(z)"
   ]
  },
  {
   "cell_type": "code",
   "execution_count": 7,
   "metadata": {},
   "outputs": [
    {
     "name": "stdout",
     "output_type": "stream",
     "text": [
      "[0 0 0 0 0 0 0 0 0 0 0 0 0 0 0 0 0 0 0 0 0 0 0 0 0 0 0 0 0 0 0 0 0 0 0 0 0\n",
      " 0 0 0 0 0 0 0 0 0 0 0 0 0 0 0 0 0 0 0 0 0 0 0 0 0 0 0 0 0 0 0 0 0 0 0 0 0\n",
      " 0 0 0 0 0 0 0 0 0 0 0 0 0 0 0 0 0 0 0 0 0 0 0 0 0 0 0 0 0 0 0 0 0 0 0 0 0\n",
      " 0 0 0 0 0 0 0 0 0 0 0 0 0 0 0 0 0 0 0 0 0 0 0 0 0 0 0 0 0 0 0 0 0 0 0 0 0\n",
      " 0 0 0 0 0 0 0 0 0 0 0 0 0 0 0 0 0 0 0 0 0 0 0 0 0 0 0 0 0 0 0 0 0 0 0 0 0\n",
      " 0 0 0 0 0 0 0 0 0 0 0 0 0 0 0 0 0 0 0 0 0 0 0 0 0 0 0 0 0 0 0 0 0 0 0 0 0\n",
      " 0 0 0 0 0 0 0 0 0 0 0 0 0 0 0 0 0 0 0 0 0 0 0 0 0 0 0 0 0 0 0 0 0 0 0 0 0\n",
      " 0 0 0 0 0 0 0 0 0 0 0 0 0 0 0 0 0 0 0 0 0 0 0 0 0 0 0 0 0 0 0 0 0 0 0 0 0\n",
      " 0 0 0 0 0 0 0 0 0 0 0 0 0 0 0 0 0 0 0 0 0 0 0 0 0 0 0 0 0 0 0 0 0 0 0 0 0\n",
      " 0 0 0 0 0 0 0 0 0 0 0 0 0 0 0 0 0 0 0 0 0 0 0 0 0 0 0 0 0 0 0 0 0 0 0 0 0\n",
      " 0 0 0 0 0 0 0 0 0 0 0 0 0 0 0 0 0 0 0 0 0 0 0 0 0 0 0 0 0 0 0 0 0 0 0 0 0\n",
      " 0 0 0 0 0 0 0 0 0 0 0 0 0 0 0 0 0 0 0 0 0 0 0 0 0 0 0 0 0 0 0 0 0 0 0 0 0\n",
      " 0 0 0 0 0 0 0 0 0 0 0 0 0 0 0 0 0 0 0 0 0 0 0 0 0 0 0 0 0 0 0 0 0 0 0 0 0\n",
      " 0 0 0 0 0 0 0 0 0 0 0 0 0 0 0 0 0 0 0 0 0 0 0 0 0 0 0 0 0 0 0 0 0 0 0 0 0\n",
      " 0 0 0 0 0 0 0 0 0 0 0 0 0 0 0 0 0 0 0 0 0 0 0 0 0 0 0 0 0 0 0 0 0 0 0 0 0\n",
      " 0 0 0 0 0 0 0 0 0 0 0 0 0 0 0 0 0 0 0 0 0 0 0 0 0 0 0 0 0 0 0 0 0 0 0 0 0\n",
      " 0 0 0 0 0 0 0 0 0 0 0 0 0 0 0 0 0 0 0 0 0 0 0 0 0 0 0 0 0 0 0 0 0 0 0 0 0\n",
      " 0 0 0 0 0 0 0 0 0 0 0 0 0 0 0 0 0 0 0 0 0 0 0 0 0 0 0 0 0 0 0 0 0 0 0 0 0\n",
      " 0 0 0 0 0 0 0 0 0 0 0 0 0 0 0 0 0 0 0 0 0 0 0 0 0 0 0 0 0 0 0 0 0 0 0 0 0\n",
      " 0 0 0 0 0 0 0 0 0 0 0 0 0 0 0 0 0 0 0 0 0 0 0 0 0 0 0 0 0 0 0 0 0 0 0 0 0\n",
      " 0 0 0 0 0 0 0 0 0 0 0 0 0 0 0 0 0 0 0 0 0 0 0 0 0 0 0 0 0 0 0 0 0 0 0 0 0\n",
      " 0 0 0 0 0 0 0 0 0 0 0 0 0 0 0 0 0 0 0 0 0 0 0 0 0 0 0 0 0 0 0 0 0 0 0 0 0\n",
      " 0 0 0 0 0 0 0 0 0 0 0 0 0 0 0 0 0 0 0 0 0 0 0 0 0 0 0 0 0 0 0 0 0 0 0 0 0\n",
      " 0 0 0 0 0 0 0 0 0 0 0 0 0 0 0 0 0 0 0 0 0 0 0 0 0 0 0 0 0 0 0 0 0 0 0 0 0\n",
      " 0 0 0 0 0 0 0 0 0 0 0 0 0 0 0 0 0 0 0 0 0 0 0 0 0 0 0 0 0 0 0 0 0 0 0 0 0\n",
      " 0 0 0 0 0 0 0 0 0 0 0 0 0 0 0 0 0 0 0 0 0 0 0 0 0 0 0 0 0 0 0 0 0 0 0 0 0\n",
      " 0 0 0 0 0 0 0 0 0 0 0 0 0 0 0 0 0 0 0 0 0 0 0 0 0 0 0 0 0 0 0 0 0 0 0 0 0\n",
      " 0]\n",
      "[0 0 0 1 0 0 0 1 1 0 0 0 0 0 0 0 0 0 0 1 0 0 0 0 1 1 1 1 0 0 0 0 0 0 0 0 0\n",
      " 0 0 0 0 0 0 0 0 0 0 0 0 0 0 0 0 0 0 0 0 0 0 1 0 1 0 0 1 0 0 1 0 0 0 0 0 0\n",
      " 0 1 0 0 0 1 1 1 0 0 0 0 0 0 0 0 0 0 0 0 1 0 0 0 0 0 0 1 0 0 0 0 0 0 0 0 0\n",
      " 0 0 1 0 0 0 0 0 0 1 1 0 1 0 1 0 0 0 1 0 0 0 0 0 0 0 0 0 0 1 0 0 0 0 0 0 0\n",
      " 0 1 0 0 0 0 0 0 1 0 0 0 0 0 0 0 0 0 0 0 0 0 0 0 0 0 0 0 0 0 0 0 0 0 0 0 0\n",
      " 1 0 0 0 0 0 0 0 1 0 0 0 0 0 0 0 0 0 0 0 1 0 0 1 0 0 0 0 0 0 0 0 0 0 0 0 0\n",
      " 0 0 0 0 0 1 1 0 0 0 0 0 0 0 0 0 0 0 0 0 1 0 0 0 0 0 0 0 1 0 0 0 0 0 0 0 0\n",
      " 0 0 0 1 0 0 0 1 0 0 1 0 0 0 0 0 1 0 0 0 0 0 1 0 0 1 0 0 1 0 0 0 0 1 1 0 0\n",
      " 0 0 1 0 0 0 0 0 0 1 0 0 0 0 0 0 0 0 0 0 0 0 1 0 0 1 0 0 0 0 1 0 1 0 0 0 0\n",
      " 0 1 0 0 0 0 0 0 0 0 1 0 0 0 0 0 0 1 0 1 0 0 0 0 0 1 1 0 1 0 0 0 0 0 0 0 0\n",
      " 0 1 0 0 0 0 1 0 0 1 1 1 0 0 0 0 0 0 1 1 0 0 0 0 0 1 0 1 0 0 0 0 0 0 0 0 0\n",
      " 0 0 0 0 0 1 0 0 0 0 0 0 0 0 1 1 0 0 0 0 0 1 1 0 0 0 0 1 0 0 0 0 0 0 0 0 0\n",
      " 0 0 0 0 0 0 1 1 1 0 0 0 0 1 0 0 0 0 1 0 1 0 1 0 0 0 1 1 0 1 0 0 0 0 1 0 0\n",
      " 0 0 1 0 1 0 0 0 0 1 0 0 1 0 0 0 0 0 0 0 0 0 0 0 1 0 0 0 0 0 0 1 1 0 0 0 0\n",
      " 0 0 0 1 0 0 0 0 0 0 0 0 0 0 0 0 0 1 0 1 0 0 0 0 0 0 1 0 0 0 0 0 0 0 0 0 0\n",
      " 0 1 0 0 0 0 1 0 0 0 0 0 0 0 0 0 0 0 0 0 1 0 0 0 0 0 0 0 1 0 0 1 0 1 1 0 0\n",
      " 0 0 1 0 0 0 0 0 1 0 1 0 0 1 0 0 0 1 0 0 1 0 0 1 0 0 0 0 0 1 0 0 0 0 1 0 0\n",
      " 0 1 0 0 1 1 1 0 0 0 0 0 0 0 1 1 0 0 0 1 0 0 0 0 0 0 0 0 0 0 0 0 0 1 0 0 0\n",
      " 0 0 1 0 0 0 1 0 0 0 0 1 0 0 1 0 0 1 0 0 1 0 0 0 0 1 0 1 0 0 0 0 0 0 0 1 0\n",
      " 0 1 0 1 1 1 0 0 0 0 0 0 0 1 0 0 1 0 1 0 1 0 1 0 0 1 0 1 0 0 1 0 1 1 0 0 0\n",
      " 1 0 0 0 0 0 0 0 0 0 0 1 0 0 0 1 0 0 0 0 0 1 0 0 0 0 0 0 0 0 1 0 0 0 0 0 0\n",
      " 0 0 0 0 0 0 1 0 0 0 1 0 0 1 0 0 1 0 0 0 0 1 0 0 0 0 0 0 0 0 0 0 0 1 0 0 1\n",
      " 0 0 1 1 0 1 0 0 0 0 0 0 1 0 0 1 1 1 0 0 1 0 1 0 1 0 0 1 0 0 0 0 0 0 0 0 0\n",
      " 0 0 0 0 1 0 0 1 0 0 0 1 0 0 1 0 0 0 0 0 0 0 1 0 0 1 0 1 0 0 0 0 0 0 0 0 1\n",
      " 0 1 0 0 0 0 0 1 0 0 0 0 0 1 0 0 0 0 0 0 0 0 0 0 0 0 0 0 0 0 0 0 0 0 0 0 0\n",
      " 0 0 0 0 0 0 1 0 0 1 1 0 1 0 1 0 0 0 0 0 0 1 1 0 0 1 0 0 0 1 1 1 1 1 0 0 0\n",
      " 0 0 1 0 0 0 0 0 0 0 0 1 1 0 0 1 0 0 1 0 0 0 0 1 1 1 0 0 0 0 1 0 1 0 0 0 0\n",
      " 0]\n",
      "[3 1 0 1 1 0 3 3 1 1 2 3 1 3 2 3 3 1 1 1 2 2 1 3 2 0 1 1 1 2 1 2 0 2 1 2 2\n",
      " 2 1 1 2 2 2 2 1 2 2 3 2 1 1 2 0 3 0 2 2 2 2 1 2 0 2 1 1 2 1 2 2 2 2 2 2 1\n",
      " 3 1 2 2 2 1 2 2 2 2 3 1 1 2 0 1 3 3 3 0 1 2 0 2 2 1 2 2 3 1 1 1 3 0 1 3 2\n",
      " 2 0 1 2 2 2 2 3 1 2 2 1 0 1 2 0 1 2 1 2 1 2 2 2 2 3 2 2 2 1 2 2 2 0 0 0 2\n",
      " 3 1 2 3 1 2 3 1 1 2 2 2 2 2 3 1 2 2 1 2 2 2 2 2 1 1 2 1 2 2 1 1 0 0 1 1 2\n",
      " 2 1 1 1 3 3 1 1 2 0 2 1 1 1 2 0 3 0 1 3 3 2 2 1 2 1 1 2 3 1 1 2 1 0 2 2 1\n",
      " 1 1 2 2 3 0 0 1 3 2 2 3 3 1 2 1 0 0 1 0 1 1 1 2 2 1 2 1 3 3 2 2 2 1 2 1 2\n",
      " 1 1 1 0 2 3 2 1 1 2 3 1 1 3 2 2 2 1 1 0 2 0 1 2 1 1 1 1 0 2 1 1 2 2 3 3 1\n",
      " 2 3 3 2 1 1 2 1 1 2 0 1 2 1 0 2 1 1 2 1 2 3 3 2 0 1 1 2 1 2 1 0 3 3 1 1 3\n",
      " 1 2 1 1 1 2 2 2 3 2 2 1 3 2 2 0 2 2 0 2 2 1 1 2 2 1 3 0 3 0 2 3 1 1 2 2 1\n",
      " 0 1 1 2 2 0 2 1 2 3 3 1 2 2 1 2 1 1 2 2 0 3 1 2 1 2 0 1 0 1 3 3 3 1 1 2 2\n",
      " 2 1 1 2 3 3 1 2 1 2 1 3 3 2 1 2 3 0 2 2 2 2 1 1 0 1 1 2 1 2 1 3 2 2 2 1 3\n",
      " 2 1 0 2 2 1 1 3 1 2 0 2 2 0 2 1 2 3 2 2 1 0 3 1 3 2 1 0 2 2 1 2 0 2 1 1 2\n",
      " 3 0 2 2 2 2 3 1 2 3 1 3 2 2 0 1 1 1 2 2 0 1 1 2 1 2 3 2 1 2 2 1 0 2 2 3 0\n",
      " 0 2 3 1 3 3 1 1 1 3 2 2 2 1 2 3 1 2 1 2 0 1 2 2 2 0 1 0 3 2 3 1 0 3 2 2 2\n",
      " 2 0 1 1 0 2 0 2 2 0 3 2 0 2 0 2 2 1 0 3 2 3 1 1 2 3 0 1 1 1 1 2 1 2 1 1 2\n",
      " 1 1 3 1 0 2 3 2 0 1 1 1 1 2 2 1 0 3 3 2 2 2 1 0 1 1 0 2 3 2 3 2 2 2 1 1 2\n",
      " 1 2 2 2 3 3 2 2 1 2 2 2 0 1 1 1 1 2 0 1 3 1 2 2 2 3 2 0 2 1 3 2 2 2 2 1 1\n",
      " 1 3 1 3 0 2 0 2 1 1 2 2 3 2 2 2 0 2 2 3 1 3 1 3 2 0 2 1 1 1 0 0 2 1 0 2 0\n",
      " 1 2 0 3 1 0 1 1 2 2 1 2 2 2 3 2 1 1 1 2 1 2 2 2 1 1 0 1 2 0 1 2 2 1 2 1 2\n",
      " 2 1 1 2 2 2 2 3 1 0 3 3 1 2 2 1 2 1 1 3 0 1 1 2 1 0 1 2 2 2 2 1 1 1 1 2 2\n",
      " 1 2 2 1 3 2 0 3 1 1 3 0 3 2 3 1 1 2 1 2 3 3 1 2 2 2 0 0 3 3 1 2 2 2 2 2 3\n",
      " 0 2 1 2 2 3 2 2 3 1 2 1 2 1 1 2 2 2 0 1 1 1 0 2 1 1 3 1 1 2 2 1 2 2 1 3 2\n",
      " 3 0 1 1 1 1 3 2 2 3 3 1 2 1 2 1 3 0 1 2 1 1 0 3 1 2 2 1 1 3 1 2 2 1 1 2 2\n",
      " 2 2 0 1 2 2 0 1 1 2 2 2 2 1 2 2 2 2 1 1 3 2 2 3 1 1 2 2 0 2 2 1 1 3 2 2 1\n",
      " 2 1 1 1 2 0 3 3 0 0 1 2 2 3 2 2 1 1 2 1 1 2 2 1 1 2 2 2 2 2 0 3 0 2 2 1 3\n",
      " 1 2 0 2 0 2 3 2 2 0 1 1 2 0 1 1 1 2 0 2 2 2 1 2 2 1 1 3 2 2 2 1 1 1 2 2 1\n",
      " 2]\n"
     ]
    },
    {
     "name": "stderr",
     "output_type": "stream",
     "text": [
      "C:\\Users\\anmol\\Anaconda3\\lib\\site-packages\\matplotlib\\axes\\_axes.py:6462: UserWarning: The 'normed' kwarg is deprecated, and has been replaced by the 'density' kwarg.\n",
      "  warnings.warn(\"The 'normed' kwarg is deprecated, and has been \"\n",
      "C:\\Users\\anmol\\Anaconda3\\lib\\site-packages\\matplotlib\\axes\\_axes.py:6462: UserWarning: The 'normed' kwarg is deprecated, and has been replaced by the 'density' kwarg.\n",
      "  warnings.warn(\"The 'normed' kwarg is deprecated, and has been \"\n",
      "C:\\Users\\anmol\\Anaconda3\\lib\\site-packages\\matplotlib\\axes\\_axes.py:6462: UserWarning: The 'normed' kwarg is deprecated, and has been replaced by the 'density' kwarg.\n",
      "  warnings.warn(\"The 'normed' kwarg is deprecated, and has been \"\n"
     ]
    },
    {
     "data": {
      "text/plain": [
       "[Text(0,0.5,'Frequency'), Text(0.5,0,'Binomial')]"
      ]
     },
     "execution_count": 7,
     "metadata": {},
     "output_type": "execute_result"
    },
    {
     "data": {
      "image/png": "[encoded data removed]",
      "text/plain": [
       "<Figure size 324x216 with 1 Axes>"
      ]
     },
     "metadata": {},
     "output_type": "display_data"
    }
   ],
   "source": [
    "# for inline plots in jupyter\n",
    "%matplotlib inline\n",
    "# import matplotlib\n",
    "import matplotlib.pyplot as plt\n",
    "# import seaborn\n",
    "import seaborn as sns\n",
    "# settings for seaborn plotting style\n",
    "sns.set(color_codes=True)\n",
    "# settings for seaborn plot sizes\n",
    "sns.set(rc={'figure.figsize':(4.5,3)})\n",
    "data_binom_0 = binom.rvs(n=0,p=0.3, size=1000) \n",
    "\n",
    "print(data_binom_0)\n",
    "ax = sns.distplot(data_binom_0,\n",
    "                  kde=False,\n",
    "                  color='skyblue',\n",
    "                  hist_kws={\"linewidth\": 15,'alpha':1})\n",
    "ax.set(xlabel='Binomial', ylabel='Frequency')\n",
    "\n",
    "data_binom_1 = binom.rvs(n=1,p=0.2, size=1000) \n",
    "\n",
    "print(data_binom_1)\n",
    "ax = sns.distplot(data_binom_1,\n",
    "                  kde=False,\n",
    "                  color='green',\n",
    "                  hist_kws={\"linewidth\": 15,'alpha':1})\n",
    "ax.set(xlabel='Binomial', ylabel='Frequency')\n",
    "\n",
    "\n",
    "data_binom_3 = binom.rvs(n=3,p=0.5, size=1000) \n",
    "\n",
    "print(data_binom_3)\n",
    "ax = sns.distplot(data_binom_3,\n",
    "                  kde=False,\n",
    "                  color='red',\n",
    "                  hist_kws={\"linewidth\": 15,'alpha':1})\n",
    "ax.set(xlabel='Binomial', ylabel='Frequency')"
   ]
  },
  {
   "cell_type": "markdown",
   "metadata": {},
   "source": [
    "# Problem 7"
   ]
  },
  {
   "cell_type": "code",
   "execution_count": 8,
   "metadata": {},
   "outputs": [
    {
     "data": {
      "image/png": "[encoded data removed]",
      "text/plain": [
       "<Figure size 360x270 with 1 Axes>"
      ]
     },
     "metadata": {},
     "output_type": "display_data"
    }
   ],
   "source": [
    "import numpy as np\n",
    "from scipy.stats import gamma\n",
    "from matplotlib import pyplot as plt\n",
    "#------------------------------------------------------------\n",
    "# plot the distributions\n",
    "k_values = [1, 2, 3, 4]\n",
    "theta_values = [1, 1, 2, 2]\n",
    "linestyles = ['-', '--', ':', '-.']\n",
    "x = np.linspace(1E-6, 10, 1000)\n",
    "\n",
    "#------------------------------------------------------------\n",
    "# plot the distributions\n",
    "fig, ax = plt.subplots(figsize=(5, 3.75))\n",
    "\n",
    "for k, t, ls in zip(k_values, theta_values, linestyles):\n",
    "    dist = gamma(k, 0, t)\n",
    "    plt.plot(x, dist.pdf(x), ls=ls, c='black',\n",
    "             label=r'$k=%.1f,\\ \\theta=%.1f$' % (k, t))\n",
    "\n",
    "plt.xlim(0, 10)\n",
    "plt.ylim(0, 0.45)\n",
    "\n",
    "plt.xlabel('$x$')\n",
    "plt.ylabel(r'$p(x|k,\\theta)$')\n",
    "plt.title('Gamma Distribution')\n",
    "\n",
    "plt.legend(loc=0)\n",
    "plt.show()"
   ]
  },
  {
   "cell_type": "code",
   "execution_count": 20,
   "metadata": {},
   "outputs": [
    {
     "name": "stderr",
     "output_type": "stream",
     "text": [
      "C:\\Users\\anmol\\Anaconda3\\lib\\site-packages\\matplotlib\\axes\\_axes.py:6462: UserWarning: The 'normed' kwarg is deprecated, and has been replaced by the 'density' kwarg.\n",
      "  warnings.warn(\"The 'normed' kwarg is deprecated, and has been \"\n"
     ]
    },
    {
     "data": {
      "text/plain": [
       "<matplotlib.axes._subplots.AxesSubplot at 0x24d03815438>"
      ]
     },
     "execution_count": 20,
     "metadata": {},
     "output_type": "execute_result"
    },
    {
     "data": {
      "image/png": "[encoded data removed]",
      "text/plain": [
       "<Figure size 432x288 with 1 Axes>"
      ]
     },
     "metadata": {},
     "output_type": "display_data"
    }
   ],
   "source": [
    "from scipy.stats import gamma\n",
    "import numpy as np\n",
    "import matplotlib.pyplot as plt\n",
    "\n",
    "\n",
    "x = np.arange(0,10,.1)\n",
    "y1 = np.random.gamma(shape=4, scale=3, size=1000) + 2  # sets loc = 2 \n",
    "y2 = np.hstack((y1, 10*np.random.rand(100)))  # add noise from 0 to 10\n",
    "\n",
    "# fit the distributions, get the PDF distribution using the parameters\n",
    "shape1, loc1, scale1 = gamma.fit(y1)\n",
    "g1 = gamma.pdf(x=x, a=shape1, loc=loc1, scale=scale1)\n",
    "g1\n",
    "import seaborn as sns\n",
    "sns.distplot(g1)"
   ]
  },
  {
   "cell_type": "markdown",
   "metadata": {},
   "source": [
    "# Problem 4"
   ]
  },
  {
   "cell_type": "code",
   "execution_count": 11,
   "metadata": {},
   "outputs": [],
   "source": [
    "import numpy as np\n",
    "import math\n",
    "import matplotlib.pyplot as plt\n",
    "import seaborn as sns\n",
    "import warnings\n",
    "warnings.filterwarnings('ignore')"
   ]
  },
  {
   "cell_type": "code",
   "execution_count": 12,
   "metadata": {},
   "outputs": [
    {
     "data": {
      "image/png": "[encoded data removed]",
      "text/plain": [
       "<Figure size 324x216 with 1 Axes>"
      ]
     },
     "metadata": {},
     "output_type": "display_data"
    }
   ],
   "source": [
    "n = 1000\n",
    "u = np.random.uniform(low = 0.0, high = 1.0, size = n)\n",
    "x = u**(1/3)\n",
    "sns.distplot(x, hist = True, kde=True, bins = 10)\n",
    "plt.show()"
   ]
  },
  {
   "cell_type": "markdown",
   "metadata": {},
   "source": [
    "# Problem 5"
   ]
  },
  {
   "cell_type": "code",
   "execution_count": 13,
   "metadata": {},
   "outputs": [],
   "source": [
    "n = 1000\n",
    "k = 0\n",
    "j = 0\n",
    "y = np.zeros(n)\n",
    "while k<n-1:\n",
    "    u = np.random.uniform(size = 1)\n",
    "    j = j+1\n",
    "    x = np.random.uniform(size = 1)\n",
    "    if x*(1-x) > u:\n",
    "        k = k+1\n",
    "        y[k] = x\n",
    "p = np.linspace(start = 0.1, stop = 0.9, num=10)\n"
   ]
  },
  {
   "cell_type": "code",
   "execution_count": 69,
   "metadata": {},
   "outputs": [],
   "source": [
    "import pandas as pd\n",
    "from scipy.stats import beta\n",
    "from scipy.stats.mstats import mquantiles\n"
   ]
  },
  {
   "cell_type": "code",
   "execution_count": 75,
   "metadata": {
    "scrolled": true
   },
   "outputs": [],
   "source": [
    "q_hat =  scipy.stats.mstats.mquantiles(y, p)\n",
    "##q_hat = np.quantile(y,p)\n",
    "r = beta.ppf(p, 3, 2)\n",
    "z = np.sqrt(p*(1-p)/(n*beta.pdf(r, 3, 2)**2))"
   ]
  },
  {
   "cell_type": "code",
   "execution_count": 76,
   "metadata": {},
   "outputs": [
    {
     "name": "stdout",
     "output_type": "stream",
     "text": [
      "[0.20360727 0.28521864 0.34565156 0.41911701 0.4965357  0.54697297\n",
      " 0.60732269 0.66017803 0.72476103 0.80970146]\n",
      "[0.32046058 0.40829619 0.47627164 0.53494954 0.58857456 0.63953933\n",
      " 0.68961098 0.7405407  0.7947675  0.85744068]\n",
      "[0.00113286 0.0010457  0.00099354 0.00095421 0.00092081 0.00089017\n",
      " 0.00086031 0.00082954 0.00079568 0.00075429]\n"
     ]
    },
    {
     "data": {
      "image/png": "[encoded data removed]",
      "text/plain": [
       "<Figure size 324x216 with 1 Axes>"
      ]
     },
     "metadata": {},
     "output_type": "display_data"
    }
   ],
   "source": [
    "print(q_hat)\n",
    "print(r)\n",
    "print(z)\n",
    "temp = np.array([q_hat, r])\n",
    "for i in temp:\n",
    "    sns.distplot(i, hist = True, kde = True, color = 'darkblue')\n",
    "\n",
    "plt.show()"
   ]
  },
  {
   "cell_type": "markdown",
   "metadata": {},
   "source": [
    "# Problem 6"
   ]
  },
  {
   "cell_type": "code",
   "execution_count": 11,
   "metadata": {},
   "outputs": [
    {
     "name": "stdout",
     "output_type": "stream",
     "text": [
      "P_hat:  [0.702, 0.188, 0.01, 0.068, 0.026, 0.003, 0.002, 0.001]\n",
      "\n",
      "P:  [0.7213475204444817, 0.7213475204444817, 0.7213475204444816, 0.7213475204444817, 0.7213475204444817, 0.7213475204444816, 0.7213475204444817, 0.7213475204444817]\n",
      "\n",
      "se:  [0.014177632919252768, 0.014177632919252768, 0.01417763291925277, 0.014177632919252768, 0.014177632919252768, 0.01417763291925277, 0.014177632919252768, 0.014177632919252768]\n"
     ]
    },
    {
     "name": "stderr",
     "output_type": "stream",
     "text": [
      "C:\\Users\\anmol\\Anaconda3\\lib\\site-packages\\matplotlib\\axes\\_axes.py:6462: UserWarning: The 'normed' kwarg is deprecated, and has been replaced by the 'density' kwarg.\n",
      "  warnings.warn(\"The 'normed' kwarg is deprecated, and has been \"\n"
     ]
    },
    {
     "data": {
      "text/plain": [
       "<matplotlib.axes._subplots.AxesSubplot at 0x24d0372f6d8>"
      ]
     },
     "execution_count": 11,
     "metadata": {},
     "output_type": "execute_result"
    },
    {
     "data": {
      "image/png": "[encoded data removed]",
      "text/plain": [
       "<Figure size 432x288 with 1 Axes>"
      ]
     },
     "metadata": {},
     "output_type": "display_data"
    }
   ],
   "source": [
    "import numpy as np\n",
    "import math\n",
    "import scipy.stats\n",
    "import seaborn as sns\n",
    "import collections as col\n",
    "\n",
    "n = 1000\n",
    "theta = 0.5\n",
    "u = np.random.uniform(size = n)\n",
    "v = np.random.uniform(size = n)\n",
    "x = (1+np.log(v)/np.log(1-(1-theta)**u))\n",
    "x = np.floor(x)\n",
    "\n",
    "k = []\n",
    "for i in range(1, int(max(x))+1):\n",
    "    k.append(i)\n",
    "    \n",
    "p = []\n",
    "for j in range(0, len(k)):\n",
    "    temp = -1/np.log(1-theta)*(theta*k[j])/k[j]\n",
    "    p.append(temp)\n",
    "    \n",
    "se = []\n",
    "for i in range(0, len(p)):\n",
    "    temp = np.sqrt(p[i]*(1-p[i])/n)\n",
    "    se.append(temp)\n",
    "    \n",
    "c = col.Counter(x).values()\n",
    "c = list(c)\n",
    "p_hat = []\n",
    "for i in range(0, len(c)):\n",
    "    temp = c[i]/n\n",
    "    p_hat.append(temp)\n",
    "\n",
    "print(\"P_hat: \", p_hat)\n",
    "print(\"\\nP: \", p)\n",
    "print(\"\\nse: \", se)\n",
    "sns.distplot(x, hist = True, kde = True, bins = 8)"
   ]
  },
  {
   "cell_type": "markdown",
   "metadata": {},
   "source": [
    "# Problem 3"
   ]
  },
  {
   "cell_type": "code",
   "execution_count": 6,
   "metadata": {},
   "outputs": [],
   "source": [
    "######################################Problem 3################################\n",
    "import numpy as np\n",
    "from scipy.stats import binom\n",
    "import seaborn as sns\n",
    "def rlaplace(n, mu, sigma):\n",
    "    U = np.random.uniform(0,1,n)\n",
    "    sign = binom.rvs(1, 0.5, size = n)\n",
    "    sign[sign>0.5] = 1\n",
    "    sign[sign<0.5] = -1\n",
    "    y = mu + sign*sigma/np.sqrt(2)*np.log(1-U)\n",
    "    print(y)\n",
    "    sns.distplot(y)"
   ]
  },
  {
   "cell_type": "code",
   "execution_count": 10,
   "metadata": {},
   "outputs": [
    {
     "name": "stdout",
     "output_type": "stream",
     "text": [
      "[ 1.97957488e+00  9.11064488e-01 -7.47118832e-02 -1.11035006e-01\n",
      "  1.75052280e-01  1.28033891e+00  3.54853738e-01  1.25000945e+00\n",
      "  7.33231156e-01  7.30976973e-01  9.66269390e-02  1.11508146e+00\n",
      "  1.62765440e-01  3.78388291e-01  4.65458059e-02 -8.69660965e-01\n",
      "  4.31252719e-01  1.21465695e+00  4.81954685e-01  8.04330333e-01\n",
      "  1.84063739e+00  9.09176418e-01 -8.48805240e-02  6.81097944e-02\n",
      "  4.97880519e-01  6.07943130e-01  9.75030687e-01  7.98664702e-02\n",
      "  2.11572906e+00 -3.02104963e-01  5.68779354e-01  6.61962489e-01\n",
      "  8.58086541e-01 -2.37536623e-02  3.98677561e-01  4.08136371e-01\n",
      " -2.01465910e-01  3.20109031e-01 -1.27358877e+00  4.86182050e-01\n",
      "  6.79726582e-01 -2.04511567e+00 -2.59261110e-01  9.84961303e-01\n",
      "  4.62006691e-01  3.45308444e-01  7.86371303e-01  9.02604451e-01\n",
      "  1.19131000e-01  6.07052726e-01  4.47364199e-01  1.31275986e+00\n",
      "  5.03099869e-01 -2.05769767e-01  1.00345963e+00 -7.50119451e-01\n",
      "  9.90887682e-01 -2.10246610e+00  6.96781387e-02  4.74202582e-01\n",
      "  2.95653769e-01  4.75301314e-01  9.93965187e-02 -1.24026995e+00\n",
      "  1.15751538e+00  1.95677125e+00  4.24768068e-01  7.43801965e-01\n",
      "  6.01976443e-01 -6.00807969e-01 -7.98882680e-01  4.70834076e-01\n",
      "  8.05530570e-01  6.22093493e-01  8.56183452e-01  6.20340168e-02\n",
      "  8.51279284e-01  6.69799497e-01  1.56064004e-01  3.71620161e-01\n",
      "  2.06068598e-01  1.93825173e-01  5.06249152e-01  1.29085884e+00\n",
      "  6.14719067e-01  4.97030388e-01  1.58171257e+00  3.46548251e-01\n",
      " -1.19737407e-01  5.06298298e-02  4.17533813e-01  4.92086963e-01\n",
      " -3.33738969e-01  7.65297007e-01  8.41408034e-01 -7.68464909e-01\n",
      "  6.85566958e-01  6.34131434e-01  2.94286147e-01  3.81399823e+00\n",
      " -1.15886329e+00  6.58904822e-01  8.75170954e-01  2.23405787e-01\n",
      "  6.36657804e-01  1.25690820e+00  2.21794825e+00  9.60323246e-01\n",
      " -6.03101458e-01  8.47945317e-01  5.18886824e-01  2.25897191e+00\n",
      "  2.43222294e-01 -3.10227717e-01  9.08666383e-01  9.35074670e-01\n",
      " -1.36970914e-01  5.08143564e-01  3.71116177e-01  2.36859055e+00\n",
      " -2.23204078e-01 -8.36961233e-01 -5.50348600e-01  2.33591054e-01\n",
      "  3.01928652e+00  5.62590377e-01  8.40233975e-01  2.00851460e-01\n",
      " -6.41680097e-01  4.95542761e-01  1.43914980e+00  2.74801578e-02\n",
      "  1.70723202e+00  9.29162701e-01  3.32642959e-01  4.06074680e-02\n",
      "  5.10078265e-01  1.42930568e+00 -3.79886024e-02  5.69391064e-01\n",
      "  7.71791850e-01 -5.00757074e-01  1.06492129e-01 -9.64729096e-01\n",
      " -2.77535902e-01 -2.57800453e+00  1.99609149e-01 -2.11665298e+00\n",
      "  7.66851802e-01 -1.17836344e-01  1.22748836e+00  6.07549675e-01\n",
      "  7.53417096e-01  7.95745372e-01  3.89629267e-01  4.09043743e-01\n",
      "  2.76337488e-01 -6.20260135e-01  9.55403061e-01  2.56446394e-01\n",
      "  1.89892009e-01  7.91929877e-01 -8.73850696e-01  1.10958623e-01\n",
      "  7.77826425e-01  6.23264528e-01  8.47822671e-01  7.75412738e-01\n",
      "  6.94781325e-01  1.08456430e+00 -1.07469320e+00  1.06595577e+00\n",
      "  1.81771594e-01  5.89268703e-01  1.40963405e+00  8.99641684e-01\n",
      "  3.49439174e-01  8.89012025e-01  2.14494243e+00  5.49991645e-01\n",
      "  8.33608827e-01  4.57554943e-01 -5.01546286e-01  4.14823605e-01\n",
      "  3.70724789e-01  4.07269726e-01  1.41787246e+00  1.71536985e+00\n",
      " -8.77620071e-01  4.59927690e-01  5.34731563e-01  9.04010512e-01\n",
      "  2.73391732e+00  1.30864942e+00  1.20564819e+00  4.62838167e-01\n",
      "  1.85731754e+00  1.22421468e+00  3.93326153e-01  2.58597407e-01\n",
      "  4.42377506e-01 -5.05104249e-02  7.04617029e-01  7.70055956e-01\n",
      "  8.33865939e-01  1.63372657e-01  4.77644113e-01 -3.59914527e-02\n",
      " -1.14939263e+00  1.34140221e-01  3.40627586e-01  8.75619256e-01\n",
      "  4.01548213e-01  7.66726360e-01  5.06140296e-01  1.15380136e+00\n",
      " -2.37053719e-01 -8.13493263e-02  1.04841752e+00 -1.42527496e-01\n",
      "  1.96768343e-01  4.57880304e-01 -1.98041750e+00  8.91585258e-01\n",
      "  6.53137934e-01  1.86050584e+00  2.40476820e-01  7.89582880e-01\n",
      " -8.84802822e-02  3.68622066e-01  8.52778328e-01  4.67567783e-01\n",
      "  1.01857297e+00  9.22895844e-01 -7.14890889e-01 -9.35217379e-01\n",
      "  1.94539969e+00 -3.17285256e-01  4.74616275e-01  1.17197484e+00\n",
      "  3.73834315e-01  6.46376730e-01 -4.62086008e-01 -3.07901177e-01\n",
      "  4.21882106e-01  1.48699294e-01 -1.44763605e+00  6.52725366e-01\n",
      "  1.95439145e+00  7.93340248e-01  1.05928386e+00  5.63687585e-01\n",
      "  9.22291390e-01  1.57163435e+00  1.65524269e+00  1.81433593e-01\n",
      " -9.86665867e-01  1.01909106e+00  6.62831950e-01  4.36314231e-01\n",
      "  1.12674480e+00  6.20401052e-01  6.25537564e-01  6.91839435e-01\n",
      "  9.40977912e-01  9.12691861e-01 -2.85612928e+00  3.40101127e-01\n",
      "  6.35564985e-01  7.53959156e-01 -2.90686338e-02  1.14330724e+00\n",
      "  1.20994624e+00  1.09394546e+00  6.12007039e-01  7.63496988e-01\n",
      "  2.40927779e-01  2.80710706e-01  4.10253175e-01  5.59222718e-01\n",
      "  2.23603979e-01  3.83950133e-01 -1.35681993e+00  2.99847232e-01\n",
      "  9.85326194e-01 -5.32879128e-01 -6.25837869e-01 -1.43440411e+00\n",
      "  9.17889683e-01 -4.36029423e-02  1.42388287e-01  1.44461758e+00\n",
      " -1.34548072e+00  6.82097730e-01  1.16589255e+00  3.55837109e-01\n",
      "  3.34184570e-01  2.70431421e-01  1.44526136e+00  4.21211595e-01\n",
      "  1.61261143e+00  7.05498222e-01  1.17250173e+00  1.79147091e-01\n",
      "  4.47382405e-01  2.80480976e-01 -4.30477056e-01  5.17712302e-01\n",
      "  4.26384580e-01 -2.28060403e-02  9.44671984e-01  1.30900830e+00\n",
      "  1.71421307e+00 -3.12333191e-01 -4.78208187e-02  2.78517938e-01\n",
      "  1.58991169e-01  3.73580683e-01  6.89464422e-01  8.31810190e-01\n",
      " -1.68380674e-01  7.78161343e-01  6.44944449e-01  5.21626775e-01\n",
      "  4.71273814e-01  1.60919996e+00  1.36364738e+00  6.59456665e-01\n",
      "  7.26706755e-01  1.31231276e+00  3.41099077e+00  3.71892776e-01\n",
      "  4.93276360e-01  1.01497414e+00  7.38627102e-01  2.08030710e+00\n",
      "  8.79903828e-01  4.99487968e-01  8.67301671e-01  1.43652679e+00\n",
      "  1.62724051e+00  5.43327827e-01 -6.31929482e-01  2.71170523e-01\n",
      "  4.03297147e-01  1.08913014e+00  4.12048325e-01  2.80854644e-01\n",
      "  6.83157610e-01  2.85115889e-01  6.33890710e-01  1.84861255e+00\n",
      "  7.18675260e-01 -3.02335829e+00  2.99435452e-01  3.50827274e-01\n",
      "  9.23902551e-01  7.31955409e-02  4.21808782e-01  1.70678911e+00\n",
      "  4.45078599e-01  7.04471706e-01 -2.39886893e+00  4.91912781e-01\n",
      "  6.71203653e-01  5.66315978e-01  4.23643596e-01  6.95519231e-01\n",
      "  1.03505921e+00  3.62978689e-01 -7.22667714e-01  1.10764099e-01\n",
      "  1.33399885e+00  1.41016716e-03  1.51553464e+00  8.01176643e-01\n",
      "  2.40704207e+00  6.99922263e-01  6.99399014e-01  1.22467878e+00\n",
      "  1.36437895e+00  1.86456608e+00  3.12067634e-02  7.93719282e-01\n",
      "  6.39633240e-01  1.35103844e+00  1.23910524e+00  1.38084421e+00\n",
      "  8.75766594e-01 -7.08189237e-03 -2.10381608e-01  1.33070269e+00\n",
      " -4.31309602e-02  6.15627890e-01  3.87797931e-01  1.01318871e+00\n",
      "  9.36798931e-01  1.31906745e+00  3.51419912e-01  5.51623066e-01\n",
      "  2.62657267e-01  8.63153478e-01  1.40348923e+00  4.48734591e-01\n",
      "  7.35859196e-01 -1.16835513e-01  8.46122463e-01  2.58188579e+00\n",
      "  2.89579252e-01  1.83287739e+00  9.81054275e-01  1.61509092e+00\n",
      " -6.00974371e-01  1.86903098e-02  9.01407281e-02  1.05966845e+00\n",
      " -2.09891330e+00  4.82064693e-01  7.08656433e-01  2.77494844e-01\n",
      "  1.00016114e+00 -3.26512875e-01 -7.61693940e-01  9.79770083e-01\n",
      "  5.88148649e-01 -5.26885937e-02  5.68316982e-01  3.90991429e-01\n",
      "  1.80384363e+00  1.38430142e-01  4.11322760e+00  4.91646417e-01\n",
      " -1.74694249e+00  1.38234129e+00  2.57442928e-01  6.33540522e-01\n",
      "  7.42583486e-01  1.33249889e+00  6.30761258e-01  1.25542320e+00\n",
      " -2.65801551e-01  8.20269335e-01  6.97043244e-01 -7.17701872e-01\n",
      "  4.96312155e-01  1.10558534e+00 -1.17281072e+00  1.28732562e-01\n",
      " -1.57402071e+00  2.31337651e-01  6.22791350e-01 -6.79685486e-02\n",
      " -3.17646499e-01  1.20523893e+00  1.67040689e-01  1.00561881e+00\n",
      " -1.00350850e+00  8.39473362e-01 -6.93282172e-01  2.18217075e-01\n",
      "  1.57470862e-01  9.45766894e-01 -5.31607311e-02  6.96540689e-01\n",
      "  1.43148744e+00  1.50823766e-01  1.82808504e-01  7.72411186e-01\n",
      "  4.98753781e-01  7.11509028e-02  3.49662102e-01  4.43466464e-01\n",
      " -7.83887607e-02 -7.09554442e-02  2.40237420e-01  9.73604885e-01\n",
      "  8.12745144e-01  8.77113544e-01  1.00297599e+00  2.62101120e-01\n",
      "  6.77861621e-01  2.18831647e-01  5.14542483e-01  7.85993950e-01\n",
      "  4.92416946e-01  5.76084228e-02  5.89149878e-01  1.03611108e+00\n",
      " -9.63413723e-02  5.29983708e-01  1.27429580e-01  4.47415805e-01\n",
      "  1.81357297e-02  6.78147475e-01 -2.62608441e-01  1.38791846e+00\n",
      "  1.74912479e+00 -5.42537217e-01  1.43562774e+00  3.15560692e-01\n",
      "  6.26254303e-01  2.58347968e-01 -1.25690540e+00  5.59530359e-01\n",
      "  1.47774388e+00  2.03518979e-01 -2.79188943e+00  2.66899816e+00\n",
      " -6.63759161e-01  1.05319753e-02  9.24329268e-01 -2.67817195e-01\n",
      "  1.38126969e+00  8.03051686e-01  5.44893939e-01  1.55622762e+00\n",
      "  2.25292833e-01  1.75433054e+00  3.37088740e-03  7.32869362e-01\n",
      " -2.68578714e-01  2.60144018e-02 -1.25042552e+00  7.28628642e-01\n",
      "  1.43956858e+00  6.62907722e-01  7.69978276e-01  2.43802541e-01\n",
      "  8.53250319e-01  9.61020511e-01  8.77875741e-01  2.93155189e+00\n",
      "  5.79519423e-01  1.85984778e-01  8.90414649e-01  1.45486293e+00\n",
      "  1.05948347e+00  7.84079819e-01 -1.14165677e+00 -5.22455675e-01\n",
      "  1.13120642e+00 -5.26878752e-01  4.00758556e-01  4.23729673e-01\n",
      "  8.39208814e-01  7.65345260e-01  4.66133388e-01  2.22515644e+00\n",
      "  3.35943761e-01  5.10885278e-01  4.54693556e-01  5.04740768e-01\n",
      "  3.56089615e-01  5.35794786e-01  7.56920866e-02  3.97060013e-01\n",
      "  4.90636628e-01  3.70779613e-01  8.27514135e-01  3.75823157e-01\n",
      "  1.61716776e+00  8.50414696e-01  9.81673817e-01 -8.06076459e-01\n",
      "  4.29932068e-01  2.78593649e+00  6.88131721e-01  5.14631794e-01\n",
      "  6.76133753e-01 -2.53538519e-01  3.90151972e-01 -1.19888533e-02\n",
      "  3.86699975e-02  1.78060759e+00 -9.90578358e-01  8.43487282e-02\n",
      "  7.99081012e-01  4.40666422e-02 -3.10562560e-01  5.49744962e-01\n",
      "  4.99890611e-01  2.47097993e-02  4.65688916e-01  5.07577407e-01\n",
      "  5.26571167e-01  8.90075953e-01  7.02993909e-01  1.78328441e-01\n",
      " -2.62579312e-01  1.24258254e+00  7.48278677e-01  4.34059813e-01\n",
      " -1.44753262e+00  5.95835481e-01  6.33725828e-01  7.92088104e-01\n",
      "  1.25251646e+00 -4.63888437e-01 -2.49329931e-01  1.10654486e+00\n",
      " -2.28252522e-01  3.98108598e-01  3.69521273e-01  4.52384510e-01\n",
      "  4.20462385e-01  7.26228506e-02 -4.16865174e-01 -6.57668756e-01\n",
      " -1.69125365e+00  4.44067516e-01 -6.39154440e-02  7.38645956e-02\n",
      " -1.15373881e+00 -2.57157237e-01 -2.43084822e-01  5.76946808e-01\n",
      "  8.43833177e-01 -8.97226520e-02  1.26660226e+00 -1.15942451e-01\n",
      "  2.50239852e-01  1.04387097e+00  2.10329356e+00  5.70877853e-01\n",
      "  3.76838667e-01 -1.65421365e-01  1.72554902e+00  4.40983552e-01\n",
      " -2.89538529e+00 -1.59550231e+00  3.11856512e-01 -1.20873079e-01\n",
      "  1.31776227e+00  2.11006242e-01  1.21491509e+00  1.20496595e+00\n",
      " -6.46066378e-02  7.78762941e-01  1.34816690e-01  4.97421861e-01\n",
      "  1.03539996e+00  7.71524567e-01 -1.86756980e+00  1.36675653e+00\n",
      "  4.33218637e-01  5.03471388e-01  8.00930372e-01  4.49152177e-02\n",
      " -8.30844572e-02  5.29511825e-01 -1.10041889e+00  6.33750561e-02\n",
      "  5.87197648e-01  1.03720456e+00 -5.33901166e-02 -1.23747940e+00\n",
      " -8.86339827e-02  5.47180669e-01  3.08803107e-01  7.73550987e-01\n",
      "  8.99534269e-01 -3.83724009e-01  4.11168595e-01  2.36837518e-02\n",
      "  8.84824155e-01 -1.74257029e-01  5.39912268e-01 -9.82979263e-01\n",
      " -5.01549299e-01  2.09183614e+00 -2.03857872e+00  1.60212290e+00\n",
      " -6.77558998e-01  4.38788590e-01  2.35159810e-01  1.08703973e+00\n",
      "  8.57633689e-01  7.51242892e-01 -2.45351947e+00  8.47532795e-01\n",
      "  7.88857367e-01  1.13960146e+00  2.59650589e+00  2.04825358e+00\n",
      "  2.21473192e+00  3.90629338e-01  9.61595204e-01  1.63055635e+00\n",
      "  5.70948900e-01 -5.26400306e-01  9.42998451e-01  3.91982900e-01\n",
      " -3.89285107e-01  1.16857837e-01  5.54318777e-01  1.03662619e+00\n",
      "  1.16614582e+00  5.04714037e-01  8.15557707e-01  3.60310030e-01\n",
      " -1.23665552e+00 -5.94174343e-01 -2.39820028e-01 -9.46402538e-01\n",
      " -2.11369529e-01  1.06020117e+00 -4.57792186e-01  6.10627478e-01\n",
      "  7.94167665e-01  2.38337889e+00 -2.93375043e-01  5.58795145e-01\n",
      "  7.57268095e-01  1.52781810e+00  4.03150358e-01 -9.62439785e-01\n",
      "  9.52476768e-01  3.21449177e-01 -5.09927785e-01  4.91077605e-01\n",
      " -1.58333990e+00  5.72077447e-01  1.38443293e+00  8.24432870e-01\n",
      " -1.17770847e-01  9.30913104e-01  1.58954217e-01 -5.80853440e-02\n",
      "  8.14581284e-01  3.70317490e-01  9.76162097e-01  1.03226027e+00\n",
      "  2.14570442e-02  4.93790736e-01  1.10417378e-01 -3.17116457e-01\n",
      "  1.42389496e+00  1.09846193e+00 -5.85658406e-01  3.41639407e-01\n",
      "  5.29609494e-01  8.71618175e-01 -6.26134273e-02 -1.58408585e+00\n",
      " -4.24844371e-01  1.80474597e+00  7.57681745e-01  5.91866945e-01\n",
      "  6.95388532e-01 -1.14880548e+00  4.12837338e-01  1.48711504e+00\n",
      "  8.54904130e-01 -7.15078604e-02  6.68002801e-01  1.37567120e+00\n",
      "  1.09210249e+00  3.95435509e-01 -1.40802884e+00  1.58355829e+00\n",
      "  1.76594601e-02  5.43376483e-01  2.54670583e-01  2.33873842e+00\n",
      "  7.76088450e-01  1.16391849e+00  7.16401702e-01  2.87831237e-01\n",
      "  4.17731469e-01 -6.57615378e-01  1.11321365e+00  8.76230580e-01\n",
      "  1.10164327e+00  5.13528613e-01  6.00290980e-01  5.05243442e-01\n",
      "  9.54111640e-01 -4.12139462e-01  4.35907669e-01  4.64054003e-01\n",
      "  2.92096954e-01  2.46663749e-01  6.79629931e-01  8.93340066e-01\n",
      "  1.68054759e+00 -3.23685558e-01  1.76565653e+00 -1.58777288e-01\n",
      "  1.43152102e-02  7.77081529e-01  8.22052585e-01 -9.62473617e-01\n",
      "  3.04394234e+00  1.74491154e+00  1.77934133e-01  9.21281660e-02\n",
      " -1.61065041e-01 -1.41535072e-01  1.96943364e+00 -3.96865681e-01\n",
      "  2.28533774e+00  5.48149517e-01  5.43620808e-01  5.89224848e-01\n",
      "  5.23216614e-01  1.05007861e+00  1.01389050e+00  6.41782468e-01\n",
      "  6.25170291e-01  8.63495558e-01  1.22964579e+00  1.56662872e+00\n",
      "  6.99739582e-01  5.34118611e-01  6.05022595e-02 -1.81776703e-01\n",
      "  4.75543366e-01  6.06480054e-01  7.10009849e-01  1.87187094e-01\n",
      " -1.72261546e-01  9.30507546e-01 -1.16235088e+00  7.67577725e-01\n",
      "  5.21662750e-01  1.78293438e+00  9.55708074e-01  5.28058781e-01\n",
      " -1.23867933e-01 -2.32764511e-01  9.71675350e-02  1.88434685e+00\n",
      "  2.54531094e-01  5.27621704e-01  4.09386559e-01  6.61215933e-01\n",
      "  7.23679814e-01  4.63601722e-01 -6.03311967e-01  6.46317692e-01\n",
      "  8.42844076e-01  1.10378480e+00  1.26299110e+00  7.96182117e-01\n",
      "  2.40129073e-01  1.10525035e+00  1.13312073e+00  5.44240523e-01\n",
      "  9.07585753e-01  1.39805591e+00  5.60863444e-01  1.33052557e+00\n",
      "  4.70169872e-01  1.65350617e-01  3.02437994e-01  7.50508972e-01\n",
      "  5.48166326e-01 -2.90124943e+00  1.42446470e+00  7.35240266e-01\n",
      "  1.14204182e+00  5.55867465e-01 -1.71247101e-02 -2.57623468e-01\n",
      "  6.43409770e-01  1.91718926e-01 -5.66131134e-02  9.92977994e-01\n",
      "  1.05737137e+00  1.03189980e+00  5.93463749e-01  4.27117563e-01\n",
      "  5.79403401e-01 -4.76871475e-01  8.17456470e-01  7.62641356e-01\n",
      " -1.32381934e-01 -7.70909053e-01  6.71507430e-01  7.32075708e-01\n",
      "  3.23680676e-02  1.00548505e+00  7.86720738e-01  4.63633536e-01\n",
      "  3.17799854e+00  9.55665458e-01  3.27927411e-01  6.70644752e-01\n",
      "  6.85701840e-01  5.04485780e-01 -2.35989975e+00  1.17289849e+00\n",
      "  4.09668423e-01  2.46679408e-01  8.26598780e-01 -4.38892575e-01\n",
      "  6.69296205e-01  1.57437122e+00  2.92007122e-01  9.70695289e-01\n",
      "  6.16792570e-01  1.85045979e-01  3.56527631e-01  4.52654841e-01\n",
      "  4.21888861e-01  7.81431422e-01  2.20537048e-01  5.54401157e-01\n",
      "  2.26325445e+00  1.19203631e+00  6.00985167e-01  2.78111797e+00\n",
      "  2.97082399e-01  5.90371204e-01  2.03478494e-02  1.57850947e+00\n",
      "  3.80807955e-01  2.99227004e-01 -2.73762375e-01  3.34893009e-01\n",
      "  5.14034048e-01 -1.06058529e+00  5.05996761e-01  1.77352051e+00\n",
      "  4.60622262e-01 -1.28724152e-03  1.05378501e+00  8.92507979e-01\n",
      "  1.36541812e-01  9.43730122e-01  8.36706109e-01  1.84208026e-01\n",
      " -7.00254915e-03  8.69148042e-01 -2.55803659e-01  5.69706516e-01\n",
      "  9.73962183e-01  4.92450359e-01  4.15596012e-01  4.49382190e-01\n",
      "  1.73349038e+00  4.08522907e-01 -6.06162626e-01  5.96485099e-01\n",
      "  1.56070248e-01  7.54659560e-01  3.24499465e-01  2.11719326e-01\n",
      "  1.28587468e+00  2.24340351e-01  4.78851637e-01  6.23085283e-01\n",
      "  1.08457998e+00  5.69668688e-01 -1.00997290e+00  2.00440148e-01\n",
      "  5.04672953e-01  2.32291566e+00  3.31789186e-01  7.53371235e-01\n",
      " -5.07954424e-01  3.85025277e-01  7.52853065e-01  1.55424438e+00\n",
      "  1.52874730e+00  1.17353863e+00  1.87629665e-01 -2.66649935e-01\n",
      "  3.03585760e-01  8.84967035e-01 -2.74120810e-01  1.16818702e+00\n",
      " -1.98047653e+00  9.89557104e-01  1.90735235e+00  2.14674322e+00\n",
      "  8.34017151e-01  4.88719487e-01  1.01258369e+00  6.10900310e-01\n",
      "  7.53900555e-01  2.63045197e-01  6.48860243e-01  5.12228003e-01\n",
      " -6.07511961e-01  1.56196779e+00  1.35152719e-01  3.15990742e-01\n",
      "  7.25546274e-01 -5.35634848e-01  9.65879391e-01 -6.95510624e-02\n",
      "  5.83533394e-01  1.79008088e+00  1.78402275e+00  6.03983227e-01\n",
      "  8.15144749e-02  6.02450421e-01 -8.18283320e-02  1.09544884e+00]\n"
     ]
    },
    {
     "name": "stderr",
     "output_type": "stream",
     "text": [
      "C:\\Users\\anmol\\Anaconda3\\lib\\site-packages\\matplotlib\\axes\\_axes.py:6462: UserWarning: The 'normed' kwarg is deprecated, and has been replaced by the 'density' kwarg.\n",
      "  warnings.warn(\"The 'normed' kwarg is deprecated, and has been \"\n"
     ]
    },
    {
     "data": {
      "image/png": "[encoded data removed]",
      "text/plain": [
       "<Figure size 432x288 with 1 Axes>"
      ]
     },
     "metadata": {},
     "output_type": "display_data"
    }
   ],
   "source": [
    "rlaplace(1000,0.5,0.8)"
   ]
  },
  {
   "cell_type": "raw",
   "metadata": {},
   "source": []
  }
 ],
 "metadata": {
  "kernelspec": {
   "display_name": "Python 3",
   "language": "python",
   "name": "python3"
  },
  "language_info": {
   "codemirror_mode": {
    "name": "ipython",
    "version": 3
   },
   "file_extension": ".py",
   "mimetype": "text/x-python",
   "name": "python",
   "nbconvert_exporter": "python",
   "pygments_lexer": "ipython3",
   "version": "3.6.5"
  }
 },
 "nbformat": 4,
 "nbformat_minor": 2
}
